{
  "nbformat": 4,
  "nbformat_minor": 0,
  "metadata": {
    "colab": {
      "provenance": [],
      "authorship_tag": "ABX9TyMDJTJD3fq5+Z/zErkyZevu",
      "include_colab_link": true
    },
    "kernelspec": {
      "name": "python3",
      "display_name": "Python 3"
    },
    "language_info": {
      "name": "python"
    }
  },
  "cells": [
    {
      "cell_type": "markdown",
      "metadata": {
        "id": "view-in-github",
        "colab_type": "text"
      },
      "source": [
        "<a href=\"https://colab.research.google.com/github/VM-Janani/Minimum_Edit_Distance/blob/main/MED.ipynb\" target=\"_parent\"><img src=\"https://colab.research.google.com/assets/colab-badge.svg\" alt=\"Open In Colab\"/></a>"
      ]
    },
    {
      "cell_type": "code",
      "execution_count": 2,
      "metadata": {
        "id": "jOiBQR6rSLDK"
      },
      "outputs": [],
      "source": [
        "def min_edit_distance(source, target, del_cost=1, ins_cost=1, sub_cost=2):\n",
        "    n = len(source)\n",
        "    m = len(target)\n",
        "\n",
        "    # Create a distance matrix D[n+1, m+1]\n",
        "    D = [[0 for j in range(m+1)] for i in range(n+1)]\n",
        "\n",
        "    # Initialization: the zeroth row and column represent the cost from an empty string\n",
        "    for i in range(1, n+1):\n",
        "        D[i][0] = D[i-1][0] + del_cost  # Cost of deleting all characters from source\n",
        "\n",
        "    for j in range(1, m+1):\n",
        "        D[0][j] = D[0][j-1] + ins_cost  # Cost of inserting all characters into source\n",
        "\n",
        "    # Recurrence relation:\n",
        "    for i in range(1, n+1):\n",
        "        for j in range(1, m+1):\n",
        "            cost = sub_cost if source[i-1] != target[j-1] else 0  # Substitution cost\n",
        "            D[i][j] = min(\n",
        "                D[i-1][j] + del_cost,          # Deletion\n",
        "                D[i][j-1] + ins_cost,          # Insertion\n",
        "                D[i-1][j-1] + cost             # Substitution\n",
        "            )\n",
        "\n",
        "    # Termination: the value at D[n, m] is the minimum edit distance\n",
        "    return D[n][m]"
      ]
    },
    {
      "cell_type": "code",
      "source": [
        "# Example\n",
        "source = \"intention\"\n",
        "target = \"execution\"\n",
        "print(f\"Minimum edit distance between '{source}' and '{target}' is: {min_edit_distance(source, target)}\")"
      ],
      "metadata": {
        "colab": {
          "base_uri": "https://localhost:8080/"
        },
        "id": "ijL2q63XSZ4c",
        "outputId": "54dcf44e-d5a1-46ab-f755-71ce03986852"
      },
      "execution_count": 3,
      "outputs": [
        {
          "output_type": "stream",
          "name": "stdout",
          "text": [
            "Minimum edit distance between 'intention' and 'execution' is: 8\n"
          ]
        }
      ]
    }
  ]
}